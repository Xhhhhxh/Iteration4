{
 "cells": [
  {
   "cell_type": "code",
   "execution_count": 1,
   "id": "28616a6b",
   "metadata": {},
   "outputs": [
    {
     "name": "stderr",
     "output_type": "stream",
     "text": [
      "WARNING: An illegal reflective access operation has occurred\n",
      "WARNING: Illegal reflective access by org.apache.spark.unsafe.Platform (file:/home/ubuntu/spark-3.2.1-bin-hadoop2.7/jars/spark-unsafe_2.12-3.2.1.jar) to constructor java.nio.DirectByteBuffer(long,int)\n",
      "WARNING: Please consider reporting this to the maintainers of org.apache.spark.unsafe.Platform\n",
      "WARNING: Use --illegal-access=warn to enable warnings of further illegal reflective access operations\n",
      "WARNING: All illegal access operations will be denied in a future release\n",
      "Using Spark's default log4j profile: org/apache/spark/log4j-defaults.properties\n",
      "Setting default log level to \"WARN\".\n",
      "To adjust logging level use sc.setLogLevel(newLevel). For SparkR, use setLogLevel(newLevel).\n",
      "24/05/21 02:53:14 WARN NativeCodeLoader: Unable to load native-hadoop library for your platform... using builtin-java classes where applicable\n",
      "24/05/21 02:53:15 WARN Utils: Service 'SparkUI' could not bind on port 4040. Attempting port 4041.\n"
     ]
    }
   ],
   "source": [
    "import findspark\n",
    "findspark.init('/home/ubuntu/spark-3.2.1-bin-hadoop2.7')\n",
    "import pyspark\n",
    "from pyspark.sql import SparkSession\n",
    "spark = SparkSession.builder.appName('classification').getOrCreate()\n",
    "\n",
    "from pyspark.ml.feature import StringIndexer, OneHotEncoder, VectorAssembler, StandardScaler\n",
    "from pyspark.ml.classification import LinearSVC, NaiveBayes, RandomForestClassifier\n",
    "from pyspark.ml import Pipeline\n",
    "from pyspark.ml.evaluation import BinaryClassificationEvaluator\n",
    "from pyspark.ml.tuning import CrossValidator, ParamGridBuilder\n",
    "from pyspark.ml.evaluation import MulticlassClassificationEvaluator\n",
    "from pyspark.mllib.evaluation import MulticlassMetrics"
   ]
  },
  {
   "cell_type": "code",
   "execution_count": 2,
   "id": "79110df8",
   "metadata": {},
   "outputs": [],
   "source": [
    "OOSR = spark.read.csv('OOSR.csv', inferSchema=True, header=True)"
   ]
  },
  {
   "cell_type": "code",
   "execution_count": 3,
   "id": "559953ed",
   "metadata": {},
   "outputs": [],
   "source": [
    "# Encode\n",
    "indexer_age_group = StringIndexer(inputCol='Age_group', outputCol='Age_group_index')\n",
    "indexer_gender = StringIndexer(inputCol='Gender', outputCol='Gender_index')\n",
    "indexer_region = StringIndexer(inputCol='Region', outputCol='Region_index')\n",
    "\n",
    "encoder = OneHotEncoder(inputCols=['Age_group_index', 'Gender_index', 'Region_index'],\n",
    "                        outputCols=['Age_group_encoded', 'Gender_encoded', 'Region_encoded'])\n",
    "\n",
    "assembler = VectorAssembler(inputCols=['Age_group_encoded', 'Gender_encoded', 'Region_encoded'], outputCol='features')\n",
    "\n",
    "scaler = StandardScaler(inputCol=\"features\", outputCol=\"scaledFeatures\")"
   ]
  },
  {
   "cell_type": "code",
   "execution_count": 4,
   "id": "b6be06d6",
   "metadata": {},
   "outputs": [
    {
     "name": "stderr",
     "output_type": "stream",
     "text": [
      "                                                                                \r"
     ]
    },
    {
     "name": "stdout",
     "output_type": "stream",
     "text": [
      "Average precision (SVC): 0.8561543666076818\n",
      "Average precision (Naive Bayes): 0.8283881544706985\n",
      "Average precision (Random Forest): 0.8347637139585719\n"
     ]
    }
   ],
   "source": [
    "svc = LinearSVC(labelCol=\"High_OOSR\", featuresCol=\"scaledFeatures\")\n",
    "nb = NaiveBayes(labelCol=\"High_OOSR\", featuresCol=\"scaledFeatures\")\n",
    "rf = RandomForestClassifier(labelCol=\"High_OOSR\", featuresCol=\"scaledFeatures\")\n",
    "\n",
    "pipeline_svc = Pipeline(stages=[indexer_age_group, indexer_gender, indexer_region, encoder, assembler, scaler, svc])\n",
    "pipeline_nb = Pipeline(stages=[indexer_age_group, indexer_gender, indexer_region, encoder, assembler, scaler, nb])\n",
    "pipeline_rf = Pipeline(stages=[indexer_age_group, indexer_gender, indexer_region, encoder, assembler, scaler, rf])\n",
    "\n",
    "evaluator = BinaryClassificationEvaluator(labelCol=\"High_OOSR\")\n",
    "\n",
    "# Cross-validation\n",
    "paramGrid_svc = ParamGridBuilder().addGrid(svc.maxIter, [10, 20, 30]) \\\n",
    "    .addGrid(svc.regParam, [0.01, 0.1, 1.0]).build()\n",
    "\n",
    "paramGrid_nb = ParamGridBuilder().addGrid(nb.smoothing, [0.0, 0.2, 0.5, 1.0]).build()\n",
    "\n",
    "paramGrid_rf = ParamGridBuilder().addGrid(rf.numTrees, [10, 20, 30]) \\\n",
    "    .addGrid(rf.maxDepth, [5, 10, 15]).build()\n",
    "\n",
    "crossval_svc = CrossValidator(estimator=pipeline_svc,\n",
    "                              estimatorParamMaps=paramGrid_svc,\n",
    "                              evaluator=evaluator,\n",
    "                              numFolds=5)\n",
    "\n",
    "crossval_nb = CrossValidator(estimator=pipeline_nb,\n",
    "                             estimatorParamMaps=paramGrid_nb,\n",
    "                             evaluator=evaluator,\n",
    "                             numFolds=5)\n",
    "\n",
    "crossval_rf = CrossValidator(estimator=pipeline_rf,\n",
    "                             estimatorParamMaps=paramGrid_rf,\n",
    "                             evaluator=evaluator,\n",
    "                             numFolds=5)\n",
    "\n",
    "svc_model = crossval_svc.fit(OOSR)\n",
    "nb_model = crossval_nb.fit(OOSR)\n",
    "rf_model = crossval_rf.fit(OOSR)\n",
    "\n",
    "# Evaluate the model\n",
    "svc_avg_precision = evaluator.evaluate(svc_model.transform(OOSR))\n",
    "nb_avg_precision = evaluator.evaluate(nb_model.transform(OOSR))\n",
    "rf_avg_precision = evaluator.evaluate(rf_model.transform(OOSR))\n",
    "\n",
    "print(\"Average precision (SVC):\", svc_avg_precision)\n",
    "print(\"Average precision (Naive Bayes):\", nb_avg_precision)\n",
    "print(\"Average precision (Random Forest):\", rf_avg_precision)"
   ]
  },
  {
   "cell_type": "code",
   "execution_count": 5,
   "id": "febd7c0c",
   "metadata": {},
   "outputs": [],
   "source": [
    "# Select SVC\n",
    "svc = LinearSVC(labelCol=\"High_OOSR\", featuresCol=\"scaledFeatures\")\n",
    "pipeline_svc = Pipeline(stages=[indexer_age_group, indexer_gender, indexer_region, encoder, assembler, scaler, svc])\n",
    "\n",
    "svc_model = crossval_svc.fit(OOSR)"
   ]
  },
  {
   "cell_type": "code",
   "execution_count": 6,
   "id": "b6dff62a",
   "metadata": {},
   "outputs": [],
   "source": [
    "# Encode\n",
    "indexer_age_group = StringIndexer(inputCol='Age_group', outputCol='Age_group_index')\n",
    "indexer_gender = StringIndexer(inputCol='Gender', outputCol='Gender_index')\n",
    "indexer_region = StringIndexer(inputCol='Region', outputCol='Region_index')\n",
    "\n",
    "encoder = OneHotEncoder(inputCols=['Age_group_index', 'Gender_index', 'Region_index'],\n",
    "                        outputCols=['Age_group_encoded', 'Gender_encoded', 'Region_encoded'])\n",
    "\n",
    "assembler = VectorAssembler(inputCols=['Age_group_encoded', 'Gender_encoded', 'Region_encoded'], outputCol='features')\n",
    "\n",
    "scaler = StandardScaler(inputCol=\"features\", outputCol=\"scaledFeatures\")\n",
    "\n",
    "svc = LinearSVC(labelCol=\"High_OOSR\", featuresCol=\"scaledFeatures\")\n",
    "pipeline_svc = Pipeline(stages=[indexer_age_group, indexer_gender, indexer_region, encoder, assembler, scaler, svc])\n",
    "\n",
    "# Divide the data set into a training set and a test set\n",
    "train_data, test_data = OOSR.randomSplit([0.7, 0.3], seed=722)\n",
    "\n",
    "evaluator = BinaryClassificationEvaluator(labelCol=\"High_OOSR\")\n",
    "\n",
    "paramGrid_svc = ParamGridBuilder().addGrid(svc.maxIter, [10, 20, 30]) \\\n",
    "    .addGrid(svc.regParam, [0.01, 0.1, 1.0]).build()\n",
    "crossval_svc = CrossValidator(estimator=pipeline_svc,\n",
    "                              estimatorParamMaps=paramGrid_svc,\n",
    "                              evaluator=evaluator,\n",
    "                              numFolds=5)\n",
    "\n",
    "svc_model = crossval_svc.fit(train_data)"
   ]
  },
  {
   "cell_type": "code",
   "execution_count": 18,
   "id": "53f009b8",
   "metadata": {},
   "outputs": [
    {
     "name": "stdout",
     "output_type": "stream",
     "text": [
      "Accuracy on test data: 92.07%\n"
     ]
    }
   ],
   "source": [
    "predictions = svc_model.transform(test_data)\n",
    "predictions_and_labels = predictions.select(\"High_OOSR\", \"prediction\")\n",
    "\n",
    "# Calculate the accuracy\n",
    "accuracy_evaluator = MulticlassClassificationEvaluator(labelCol=\"High_OOSR\", predictionCol=\"prediction\", \n",
    "                                                       metricName=\"accuracy\")\n",
    "accuracy = accuracy_evaluator.evaluate(predictions_and_labels)\n",
    "print(\"Accuracy on test data: {:.2f}%\".format(accuracy * 100))\n"
   ]
  },
  {
   "cell_type": "code",
   "execution_count": 11,
   "id": "20c7c301",
   "metadata": {},
   "outputs": [
    {
     "name": "stdout",
     "output_type": "stream",
     "text": [
      "Confusion Matrix:\n",
      " [[441.   0.]\n",
      " [ 38.   0.]]\n"
     ]
    }
   ],
   "source": [
    "# Confusion matrix\n",
    "prediction_rdd = predictions_and_labels.select(col(\"prediction\").cast(\"double\"), \n",
    "                                               col(\"High_OOSR\").cast(\"double\")).rdd\n",
    "metrics = MulticlassMetrics(prediction_rdd)\n",
    "confusion_matrix = metrics.confusionMatrix().toArray()\n",
    "print(\"Confusion Matrix:\\n\", confusion_matrix)"
   ]
  },
  {
   "cell_type": "code",
   "execution_count": null,
   "id": "b72712cf",
   "metadata": {},
   "outputs": [],
   "source": []
  }
 ],
 "metadata": {
  "kernelspec": {
   "display_name": "Python 3 (ipykernel)",
   "language": "python",
   "name": "python3"
  },
  "language_info": {
   "codemirror_mode": {
    "name": "ipython",
    "version": 3
   },
   "file_extension": ".py",
   "mimetype": "text/x-python",
   "name": "python",
   "nbconvert_exporter": "python",
   "pygments_lexer": "ipython3",
   "version": "3.10.12"
  }
 },
 "nbformat": 4,
 "nbformat_minor": 5
}
