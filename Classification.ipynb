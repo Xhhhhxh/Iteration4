{
 "cells": [
  {
   "cell_type": "code",
   "execution_count": 5,
   "id": "28616a6b",
   "metadata": {},
   "outputs": [],
   "source": [
    "import findspark\n",
    "findspark.init('/home/ubuntu/spark-3.2.1-bin-hadoop2.7')\n",
    "import pyspark\n",
    "from pyspark.sql import SparkSession\n",
    "spark = SparkSession.builder.appName('classification').getOrCreate()\n",
    "\n",
    "from pyspark.ml.feature import StringIndexer, OneHotEncoder, VectorAssembler, StandardScaler\n",
    "from pyspark.ml.classification import LinearSVC, NaiveBayes, RandomForestClassifier\n",
    "from pyspark.ml import Pipeline\n",
    "from pyspark.ml.evaluation import BinaryClassificationEvaluator\n",
    "from pyspark.ml.tuning import CrossValidator, ParamGridBuilder\n",
    "from pyspark.ml.evaluation import MulticlassClassificationEvaluator\n",
    "from pyspark.mllib.evaluation import MulticlassMetrics"
   ]
  },
  {
   "cell_type": "code",
   "execution_count": 6,
   "id": "79110df8",
   "metadata": {},
   "outputs": [],
   "source": [
    "OOSR = spark.read.csv('OOSR/OOSR.csv', inferSchema=True, header=True)"
   ]
  },
  {
   "cell_type": "code",
   "execution_count": 7,
   "id": "559953ed",
   "metadata": {},
   "outputs": [],
   "source": [
    "# Encode\n",
    "indexer_age_group = StringIndexer(inputCol='Age_group', outputCol='Age_group_index')\n",
    "indexer_gender = StringIndexer(inputCol='Gender', outputCol='Gender_index')\n",
    "indexer_region = StringIndexer(inputCol='Region', outputCol='Region_index')\n",
    "\n",
    "encoder = OneHotEncoder(inputCols=['Age_group_index', 'Gender_index', 'Region_index'],\n",
    "                        outputCols=['Age_group_encoded', 'Gender_encoded', 'Region_encoded'])\n",
    "\n",
    "assembler = VectorAssembler(inputCols=['Age_group_encoded', 'Gender_encoded', 'Region_encoded'], outputCol='features')\n",
    "\n",
    "scaler = StandardScaler(inputCol=\"features\", outputCol=\"scaledFeatures\")"
   ]
  },
  {
   "cell_type": "code",
   "execution_count": 8,
   "id": "b6be06d6",
   "metadata": {},
   "outputs": [
    {
     "name": "stderr",
     "output_type": "stream",
     "text": [
      "24/05/23 21:36:07 WARN CacheManager: Asked to cache already cached data.\n",
      "24/05/23 21:36:07 WARN CacheManager: Asked to cache already cached data.\n"
     ]
    },
    {
     "name": "stdout",
     "output_type": "stream",
     "text": [
      "Average precision (SVC): 0.858876340168627\n",
      "Average precision (Naive Bayes): 0.8283881544706985\n",
      "Average precision (Random Forest): 0.5\n"
     ]
    }
   ],
   "source": [
    "svc = LinearSVC(labelCol=\"High_OOSR\", featuresCol=\"scaledFeatures\")\n",
    "nb = NaiveBayes(labelCol=\"High_OOSR\", featuresCol=\"scaledFeatures\")\n",
    "rf = RandomForestClassifier(labelCol=\"High_OOSR\", featuresCol=\"scaledFeatures\")\n",
    "\n",
    "pipeline_svc = Pipeline(stages=[indexer_age_group, indexer_gender, indexer_region, encoder, assembler, scaler, svc])\n",
    "pipeline_nb = Pipeline(stages=[indexer_age_group, indexer_gender, indexer_region, encoder, assembler, scaler, nb])\n",
    "pipeline_rf = Pipeline(stages=[indexer_age_group, indexer_gender, indexer_region, encoder, assembler, scaler, rf])\n",
    "\n",
    "evaluator = BinaryClassificationEvaluator(labelCol=\"High_OOSR\")\n",
    "\n",
    "# Cross-validation\n",
    "paramGrid_svc = ParamGridBuilder().addGrid(svc.maxIter, [10, 20, 30]) \\\n",
    "    .addGrid(svc.regParam, [0.01, 0.1, 1.0]).build()\n",
    "\n",
    "paramGrid_nb = ParamGridBuilder().addGrid(nb.smoothing, [0.0, 0.2, 0.5, 1.0]).build()\n",
    "\n",
    "paramGrid_rf = ParamGridBuilder().addGrid(rf.numTrees, [10, 20, 30]) \\\n",
    "    .addGrid(rf.maxDepth, [5, 10, 15]).build()\n",
    "\n",
    "crossval_svc = CrossValidator(estimator=pipeline_svc,\n",
    "                              estimatorParamMaps=paramGrid_svc,\n",
    "                              evaluator=evaluator,\n",
    "                              numFolds=5)\n",
    "\n",
    "crossval_nb = CrossValidator(estimator=pipeline_nb,\n",
    "                             estimatorParamMaps=paramGrid_nb,\n",
    "                             evaluator=evaluator,\n",
    "                             numFolds=5)\n",
    "\n",
    "crossval_rf = CrossValidator(estimator=pipeline_rf,\n",
    "                             estimatorParamMaps=paramGrid_rf,\n",
    "                             evaluator=evaluator,\n",
    "                             numFolds=5)\n",
    "\n",
    "svc_model = crossval_svc.fit(OOSR)\n",
    "nb_model = crossval_nb.fit(OOSR)\n",
    "rf_model = crossval_rf.fit(OOSR)\n",
    "\n",
    "# Evaluate the model\n",
    "svc_avg_precision = evaluator.evaluate(svc_model.transform(OOSR))\n",
    "nb_avg_precision = evaluator.evaluate(nb_model.transform(OOSR))\n",
    "rf_avg_precision = evaluator.evaluate(rf_model.transform(OOSR))\n",
    "\n",
    "print(\"Average precision (SVC):\", svc_avg_precision)\n",
    "print(\"Average precision (Naive Bayes):\", nb_avg_precision)\n",
    "print(\"Average precision (Random Forest):\", rf_avg_precision)"
   ]
  },
  {
   "cell_type": "code",
   "execution_count": 9,
   "id": "febd7c0c",
   "metadata": {},
   "outputs": [],
   "source": [
    "# Select SVC\n",
    "svc = LinearSVC(labelCol=\"High_OOSR\", featuresCol=\"scaledFeatures\")\n",
    "pipeline_svc = Pipeline(stages=[indexer_age_group, indexer_gender, indexer_region, encoder, assembler, scaler, svc])\n",
    "\n",
    "svc_model = crossval_svc.fit(OOSR)"
   ]
  },
  {
   "cell_type": "code",
   "execution_count": 10,
   "id": "b6dff62a",
   "metadata": {},
   "outputs": [],
   "source": [
    "# Encode\n",
    "indexer_age_group = StringIndexer(inputCol='Age_group', outputCol='Age_group_index')\n",
    "indexer_gender = StringIndexer(inputCol='Gender', outputCol='Gender_index')\n",
    "indexer_region = StringIndexer(inputCol='Region', outputCol='Region_index')\n",
    "\n",
    "encoder = OneHotEncoder(inputCols=['Age_group_index', 'Gender_index', 'Region_index'],\n",
    "                        outputCols=['Age_group_encoded', 'Gender_encoded', 'Region_encoded'])\n",
    "\n",
    "assembler = VectorAssembler(inputCols=['Age_group_encoded', 'Gender_encoded', 'Region_encoded'], outputCol='features')\n",
    "\n",
    "scaler = StandardScaler(inputCol=\"features\", outputCol=\"scaledFeatures\")\n",
    "\n",
    "svc = LinearSVC(labelCol=\"High_OOSR\", featuresCol=\"scaledFeatures\")\n",
    "pipeline_svc = Pipeline(stages=[indexer_age_group, indexer_gender, indexer_region, encoder, assembler, scaler, svc])\n",
    "\n",
    "# Divide the data set into a training set and a test set\n",
    "train_data, test_data = OOSR.randomSplit([0.7, 0.3], seed=722)\n",
    "\n",
    "evaluator = BinaryClassificationEvaluator(labelCol=\"High_OOSR\")\n",
    "\n",
    "paramGrid_svc = ParamGridBuilder().addGrid(svc.maxIter, [10, 20, 30]) \\\n",
    "    .addGrid(svc.regParam, [0.01, 0.1, 1.0]).build()\n",
    "crossval_svc = CrossValidator(estimator=pipeline_svc,\n",
    "                              estimatorParamMaps=paramGrid_svc,\n",
    "                              evaluator=evaluator,\n",
    "                              numFolds=5)\n",
    "\n",
    "svc_model = crossval_svc.fit(train_data)"
   ]
  },
  {
   "cell_type": "code",
   "execution_count": 11,
   "id": "53f009b8",
   "metadata": {},
   "outputs": [
    {
     "name": "stdout",
     "output_type": "stream",
     "text": [
      "Accuracy on test data: 93.52%\n"
     ]
    }
   ],
   "source": [
    "predictions = svc_model.transform(test_data)\n",
    "predictions_and_labels = predictions.select(\"High_OOSR\", \"prediction\")\n",
    "\n",
    "# Calculate the accuracy\n",
    "accuracy_evaluator = MulticlassClassificationEvaluator(labelCol=\"High_OOSR\", predictionCol=\"prediction\", \n",
    "                                                       metricName=\"accuracy\")\n",
    "accuracy = accuracy_evaluator.evaluate(predictions_and_labels)\n",
    "print(\"Accuracy on test data: {:.2f}%\".format(accuracy * 100))\n"
   ]
  },
  {
   "cell_type": "code",
   "execution_count": 13,
   "id": "20c7c301",
   "metadata": {},
   "outputs": [
    {
     "name": "stdout",
     "output_type": "stream",
     "text": [
      "Confusion Matrix:\n",
      " [[462.   0.]\n",
      " [ 32.   0.]]\n"
     ]
    }
   ],
   "source": [
    "from pyspark.sql.functions import col\n",
    "\n",
    "# Confusion matrix\n",
    "prediction_rdd = predictions_and_labels.select(col(\"prediction\").cast(\"double\"), \n",
    "                                               col(\"High_OOSR\").cast(\"double\")).rdd\n",
    "metrics = MulticlassMetrics(prediction_rdd)\n",
    "confusion_matrix = metrics.confusionMatrix().toArray()\n",
    "print(\"Confusion Matrix:\\n\", confusion_matrix)"
   ]
  }
 ],
 "metadata": {
  "kernelspec": {
   "display_name": "Python 3 (ipykernel)",
   "language": "python",
   "name": "python3"
  },
  "language_info": {
   "codemirror_mode": {
    "name": "ipython",
    "version": 3
   },
   "file_extension": ".py",
   "mimetype": "text/x-python",
   "name": "python",
   "nbconvert_exporter": "python",
   "pygments_lexer": "ipython3",
   "version": "3.10.12"
  }
 },
 "nbformat": 4,
 "nbformat_minor": 5
}
