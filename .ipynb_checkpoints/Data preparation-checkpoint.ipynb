{
 "cells": [
  {
   "cell_type": "code",
   "execution_count": 1,
   "id": "8da53504",
   "metadata": {},
   "outputs": [
    {
     "name": "stderr",
     "output_type": "stream",
     "text": [
      "WARNING: An illegal reflective access operation has occurred\n",
      "WARNING: Illegal reflective access by org.apache.spark.unsafe.Platform (file:/home/ubuntu/spark-3.2.1-bin-hadoop2.7/jars/spark-unsafe_2.12-3.2.1.jar) to constructor java.nio.DirectByteBuffer(long,int)\n",
      "WARNING: Please consider reporting this to the maintainers of org.apache.spark.unsafe.Platform\n",
      "WARNING: Use --illegal-access=warn to enable warnings of further illegal reflective access operations\n",
      "WARNING: All illegal access operations will be denied in a future release\n",
      "Using Spark's default log4j profile: org/apache/spark/log4j-defaults.properties\n",
      "Setting default log level to \"WARN\".\n",
      "To adjust logging level use sc.setLogLevel(newLevel). For SparkR, use setLogLevel(newLevel).\n",
      "24/05/23 21:16:16 WARN NativeCodeLoader: Unable to load native-hadoop library for your platform... using builtin-java classes where applicable\n",
      "24/05/23 21:16:18 WARN Utils: Service 'SparkUI' could not bind on port 4040. Attempting port 4041.\n",
      "24/05/23 21:16:18 WARN Utils: Service 'SparkUI' could not bind on port 4041. Attempting port 4042.\n",
      "24/05/23 21:16:18 WARN Utils: Service 'SparkUI' could not bind on port 4042. Attempting port 4043.\n",
      "24/05/23 21:16:18 WARN Utils: Service 'SparkUI' could not bind on port 4043. Attempting port 4044.\n"
     ]
    }
   ],
   "source": [
    "import findspark\n",
    "findspark.init('/home/ubuntu/spark-3.2.1-bin-hadoop2.7')\n",
    "import pyspark\n",
    "from pyspark.sql import SparkSession\n",
    "from pyspark.sql.functions import when, col, log, lit\n",
    "from pyspark.sql.types import StructType, StructField, StringType, IntegerType, BooleanType\n",
    "\n",
    "spark = SparkSession.builder.appName(\"preparation\").getOrCreate()\n"
   ]
  },
  {
   "cell_type": "code",
   "execution_count": 2,
   "id": "249781f7",
   "metadata": {},
   "outputs": [],
   "source": [
    "df = spark.read.csv('global_education_data.csv', inferSchema=True, header=True)"
   ]
  },
  {
   "cell_type": "code",
   "execution_count": 3,
   "id": "0b42c317",
   "metadata": {},
   "outputs": [
    {
     "name": "stdout",
     "output_type": "stream",
     "text": [
      "201 rows, 21 columns\n",
      "root\n",
      " |-- Countries and areas: string (nullable = true)\n",
      " |-- Latitude : double (nullable = true)\n",
      " |-- Longitude: double (nullable = true)\n",
      " |-- OOSR_Pre0Primary_Age_Male: integer (nullable = true)\n",
      " |-- OOSR_Pre0Primary_Age_Female: integer (nullable = true)\n",
      " |-- OOSR_Primary_Age_Male: integer (nullable = true)\n",
      " |-- OOSR_Primary_Age_Female: integer (nullable = true)\n",
      " |-- OOSR_Lower_Secondary_Age_Male: integer (nullable = true)\n",
      " |-- OOSR_Lower_Secondary_Age_Female: integer (nullable = true)\n",
      " |-- OOSR_Upper_Secondary_Age_Male: integer (nullable = true)\n",
      " |-- OOSR_Upper_Secondary_Age_Female: integer (nullable = true)\n",
      " |-- Completion_Rate_Primary_Male: integer (nullable = true)\n",
      " |-- Completion_Rate_Primary_Female: integer (nullable = true)\n",
      " |-- Completion_Rate_Lower_Secondary_Male: integer (nullable = true)\n",
      " |-- Completion_Rate_Lower_Secondary_Female: integer (nullable = true)\n",
      " |-- Completion_Rate_Upper_Secondary_Male: integer (nullable = true)\n",
      " |-- Completion_Rate_Upper_Secondary_Female: integer (nullable = true)\n",
      " |-- Youth_15_24_Literacy_Rate_Male: integer (nullable = true)\n",
      " |-- Youth_15_24_Literacy_Rate_Female: integer (nullable = true)\n",
      " |-- Birth_Rate: double (nullable = true)\n",
      " |-- Unemployment_Rate: double (nullable = true)\n",
      "\n"
     ]
    }
   ],
   "source": [
    "df = df.drop('Grade_2_3_Proficiency_Reading', 'Grade_2_3_Proficiency_Math',\n",
    "       'Primary_End_Proficiency_Reading', 'Primary_End_Proficiency_Math',\n",
    "       'Lower_Secondary_End_Proficiency_Reading',\n",
    "       'Lower_Secondary_End_Proficiency_Math',\n",
    "       'Gross_Primary_Education_Enrollment',\n",
    "       'Gross_Tertiary_Education_Enrollment')\n",
    "\n",
    "\n",
    "row_count = df.count()\n",
    "column_count = len(df.columns)\n",
    "print(f\"{row_count} rows, {column_count} columns\")\n",
    "\n",
    "df.printSchema()"
   ]
  },
  {
   "cell_type": "code",
   "execution_count": 4,
   "id": "d6325369",
   "metadata": {},
   "outputs": [
    {
     "name": "stdout",
     "output_type": "stream",
     "text": [
      "root\n",
      " |-- Countries and areas: string (nullable = true)\n",
      " |-- Latitude : double (nullable = true)\n",
      " |-- Longitude: double (nullable = true)\n",
      " |-- OOSR_Preprimary_Age_Male: integer (nullable = true)\n",
      " |-- OOSR_Preprimary_Age_Female: integer (nullable = true)\n",
      " |-- OOSR_Primary_Age_Male: integer (nullable = true)\n",
      " |-- OOSR_Primary_Age_Female: integer (nullable = true)\n",
      " |-- OOSR_Lower_Secondary_Age_Male: integer (nullable = true)\n",
      " |-- OOSR_Lower_Secondary_Age_Female: integer (nullable = true)\n",
      " |-- OOSR_Upper_Secondary_Age_Male: integer (nullable = true)\n",
      " |-- OOSR_Upper_Secondary_Age_Female: integer (nullable = true)\n",
      " |-- Completion_Rate_Primary_Male: integer (nullable = true)\n",
      " |-- Completion_Rate_Primary_Female: integer (nullable = true)\n",
      " |-- Completion_Rate_Lower_Secondary_Male: integer (nullable = true)\n",
      " |-- Completion_Rate_Lower_Secondary_Female: integer (nullable = true)\n",
      " |-- Completion_Rate_Upper_Secondary_Male: integer (nullable = true)\n",
      " |-- Completion_Rate_Upper_Secondary_Female: integer (nullable = true)\n",
      " |-- Youth_15_24_Literacy_Rate_Male: integer (nullable = true)\n",
      " |-- Youth_15_24_Literacy_Rate_Female: integer (nullable = true)\n",
      " |-- Birth_Rate: double (nullable = true)\n",
      " |-- Unemployment_Rate: double (nullable = true)\n",
      "\n"
     ]
    }
   ],
   "source": [
    "# Rename\n",
    "df = df.withColumnRenamed(\"OOSR_Pre0Primary_Age_Male\", \"OOSR_Preprimary_Age_Male\") \\\n",
    "    .withColumnRenamed(\"OOSR_Pre0Primary_Age_Female\", \"OOSR_Preprimary_Age_Female\")\n",
    "df.printSchema()"
   ]
  },
  {
   "cell_type": "code",
   "execution_count": 5,
   "id": "a2c778bb",
   "metadata": {},
   "outputs": [
    {
     "name": "stdout",
     "output_type": "stream",
     "text": [
      "root\n",
      " |-- Countries and areas: string (nullable = true)\n",
      " |-- Latitude : double (nullable = true)\n",
      " |-- Longitude: double (nullable = true)\n",
      " |-- OOSR_Preprimary_Age_Male: integer (nullable = true)\n",
      " |-- OOSR_Preprimary_Age_Female: integer (nullable = true)\n",
      " |-- OOSR_Primary_Age_Male: integer (nullable = true)\n",
      " |-- OOSR_Primary_Age_Female: integer (nullable = true)\n",
      " |-- OOSR_Lower_Secondary_Age_Male: integer (nullable = true)\n",
      " |-- OOSR_Lower_Secondary_Age_Female: integer (nullable = true)\n",
      " |-- OOSR_Upper_Secondary_Age_Male: integer (nullable = true)\n",
      " |-- OOSR_Upper_Secondary_Age_Female: integer (nullable = true)\n",
      " |-- Completion_Rate_Primary_Male: integer (nullable = true)\n",
      " |-- Completion_Rate_Primary_Female: integer (nullable = true)\n",
      " |-- Completion_Rate_Lower_Secondary_Male: integer (nullable = true)\n",
      " |-- Completion_Rate_Lower_Secondary_Female: integer (nullable = true)\n",
      " |-- Completion_Rate_Upper_Secondary_Male: integer (nullable = true)\n",
      " |-- Completion_Rate_Upper_Secondary_Female: integer (nullable = true)\n",
      " |-- Youth_15_24_Literacy_Rate_Male: integer (nullable = true)\n",
      " |-- Youth_15_24_Literacy_Rate_Female: integer (nullable = true)\n",
      " |-- Birth_Rate: double (nullable = true)\n",
      " |-- Unemployment_Rate: double (nullable = true)\n",
      " |-- High_OOSR_Preprimary: integer (nullable = false)\n",
      " |-- High_OOSR_Primary: integer (nullable = false)\n",
      " |-- High_OOSR_Lower_Secondary: integer (nullable = false)\n",
      " |-- High_OOSR_Upper_Secondary: integer (nullable = false)\n",
      "\n"
     ]
    }
   ],
   "source": [
    "# Deriving\n",
    "df = df.withColumn(\"High_OOSR_Preprimary\", when((col(\"OOSR_Preprimary_Age_Male\") + \n",
    "                                                 col(\"OOSR_Preprimary_Age_Female\")) > 80, 1).otherwise(0)) \\\n",
    "    .withColumn(\"High_OOSR_Primary\", when((col(\"OOSR_Primary_Age_Male\") + \n",
    "                                           col(\"OOSR_Primary_Age_Female\")) > 80, 1).otherwise(0)) \\\n",
    "    .withColumn(\"High_OOSR_Lower_Secondary\", when((col(\"OOSR_Lower_Secondary_Age_Male\") + \n",
    "                                                   col(\"OOSR_Lower_Secondary_Age_Female\")) > 80, 1).otherwise(0)) \\\n",
    "    .withColumn(\"High_OOSR_Upper_Secondary\", when((col(\"OOSR_Upper_Secondary_Age_Male\") + \n",
    "                                                   col(\"OOSR_Upper_Secondary_Age_Female\")) > 80, 1).otherwise(0))\n",
    "\n",
    "df.printSchema()"
   ]
  },
  {
   "cell_type": "code",
   "execution_count": 6,
   "id": "b774fb20",
   "metadata": {},
   "outputs": [
    {
     "name": "stdout",
     "output_type": "stream",
     "text": [
      "+-------------------+--------+\n",
      "|Countries and areas|  Region|\n",
      "+-------------------+--------+\n",
      "|        Afghanistan|    Asia|\n",
      "|            Albania|  Europe|\n",
      "|            Algeria|  Africa|\n",
      "|            Andorra|  Europe|\n",
      "|             Angola|  Africa|\n",
      "|           Anguilla|Americas|\n",
      "|Antigua and Barbuda|Americas|\n",
      "|          Argentina|Americas|\n",
      "|            Armenia|    Asia|\n",
      "|          Australia| Oceania|\n",
      "|            Austria|  Europe|\n",
      "|         Azerbaijan|    Asia|\n",
      "|        The Bahamas|Americas|\n",
      "|            Bahrain|    Asia|\n",
      "|         Bangladesh|    Asia|\n",
      "|           Barbados|Americas|\n",
      "|            Belarus|  Europe|\n",
      "|            Belgium|  Europe|\n",
      "|             Belize|Americas|\n",
      "|              Benin|  Africa|\n",
      "+-------------------+--------+\n",
      "only showing top 20 rows\n",
      "\n"
     ]
    }
   ],
   "source": [
    "# Read region.csv file into a Spark DataFrame\n",
    "region = spark.read.csv(\"region.csv\", header=True, inferSchema=True)\n",
    "region.show()"
   ]
  },
  {
   "cell_type": "code",
   "execution_count": 7,
   "id": "af65709e",
   "metadata": {},
   "outputs": [],
   "source": [
    "# Define the schema for the DataFrame\n",
    "schema = StructType([\n",
    "    StructField(\"Countries and areas\", StringType(), True),\n",
    "    StructField(\"OOSR\", IntegerType(), True),\n",
    "    StructField(\"Age_group\", StringType(), True),\n",
    "    StructField(\"Gender\", StringType(), True),\n",
    "    StructField(\"High_OOSR\", IntegerType(), True)\n",
    "])\n",
    "\n",
    "# Create an empty DataFrame with the defined schema\n",
    "OOSR = spark.createDataFrame([], schema)"
   ]
  },
  {
   "cell_type": "code",
   "execution_count": 8,
   "id": "6bb33fa3",
   "metadata": {},
   "outputs": [],
   "source": [
    "age_groups = ['Preprimary', 'Primary', 'Lower_Secondary', 'Upper_Secondary']\n",
    "genders = ['Male', 'Female']\n",
    "\n",
    "for age_group in age_groups:\n",
    "    for gender in genders:\n",
    "        gender_col = f\"OOSR_{age_group}_Age_{gender}\"\n",
    "        \n",
    "        temp_df = df.select(\n",
    "            col(\"Countries and areas\"),\n",
    "            col(gender_col).alias(\"OOSR\"),\n",
    "            lit(age_group).alias(\"Age_group\"),\n",
    "            lit(gender).alias(\"Gender\"),\n",
    "            when(col(gender_col) > 50, 1).otherwise(0).alias(\"High_OOSR\")\n",
    "        ).filter(col(gender_col).isNotNull())\n",
    "        \n",
    "        OOSR = OOSR.union(temp_df)"
   ]
  },
  {
   "cell_type": "code",
   "execution_count": 9,
   "id": "fe9f51dd",
   "metadata": {},
   "outputs": [
    {
     "name": "stderr",
     "output_type": "stream",
     "text": [
      "[Stage 8:=======================>                                  (4 + 2) / 10]\r"
     ]
    },
    {
     "name": "stdout",
     "output_type": "stream",
     "text": [
      "+-------------------+----+---------------+------+---------+\n",
      "|Countries and areas|OOSR|      Age_group|Gender|High_OOSR|\n",
      "+-------------------+----+---------------+------+---------+\n",
      "|        Afghanistan|   0|     Preprimary|Female|        0|\n",
      "|        Afghanistan|   0|     Preprimary|  Male|        0|\n",
      "|        Afghanistan|   0|        Primary|  Male|        0|\n",
      "|        Afghanistan|   0|        Primary|Female|        0|\n",
      "|        Afghanistan|   0|Lower_Secondary|Female|        0|\n",
      "|        Afghanistan|   0|Lower_Secondary|  Male|        0|\n",
      "|        Afghanistan|  44|Upper_Secondary|  Male|        0|\n",
      "|        Afghanistan|  69|Upper_Secondary|Female|        1|\n",
      "|            Albania|   2|     Preprimary|Female|        0|\n",
      "|            Albania|   4|     Preprimary|  Male|        0|\n",
      "|            Albania|   6|        Primary|  Male|        0|\n",
      "|            Albania|   3|        Primary|Female|        0|\n",
      "|            Albania|   1|Lower_Secondary|Female|        0|\n",
      "|            Albania|   6|Lower_Secondary|  Male|        0|\n",
      "|            Albania|  21|Upper_Secondary|  Male|        0|\n",
      "|            Albania|  15|Upper_Secondary|Female|        0|\n",
      "|            Algeria|   0|     Preprimary|  Male|        0|\n",
      "|            Algeria|   0|     Preprimary|Female|        0|\n",
      "|            Algeria|   0|        Primary|  Male|        0|\n",
      "|            Algeria|   0|        Primary|Female|        0|\n",
      "+-------------------+----+---------------+------+---------+\n",
      "only showing top 20 rows\n",
      "\n"
     ]
    },
    {
     "name": "stderr",
     "output_type": "stream",
     "text": [
      "\r",
      "[Stage 8:==============================================>           (8 + 2) / 10]\r",
      "\r",
      "                                                                                \r"
     ]
    }
   ],
   "source": [
    "age_group_order = when(col(\"Age_group\") == \"Preprimary\", 1).when(col(\"Age_group\") == \"Primary\", 2) \\\n",
    "                  .when(col(\"Age_group\") == \"Lower_Secondary\", 3).when(col(\"Age_group\") == \"Upper_Secondary\", 4)\n",
    "\n",
    "OOSR = OOSR.orderBy(\"Countries and areas\", age_group_order)\n",
    "\n",
    "OOSR.show()"
   ]
  },
  {
   "cell_type": "code",
   "execution_count": 10,
   "id": "6d6522ba",
   "metadata": {},
   "outputs": [],
   "source": [
    "# Merge the data\n",
    "df = df.join(region, on='Countries and areas', how='left')\n",
    "OOSR = OOSR.join(region, on='Countries and areas', how='left')"
   ]
  },
  {
   "cell_type": "code",
   "execution_count": 11,
   "id": "c588daa8",
   "metadata": {},
   "outputs": [
    {
     "name": "stdout",
     "output_type": "stream",
     "text": [
      "201 rows, 26 columns\n",
      "root\n",
      " |-- Countries and areas: string (nullable = true)\n",
      " |-- Latitude : double (nullable = true)\n",
      " |-- Longitude: double (nullable = true)\n",
      " |-- OOSR_Preprimary_Age_Male: integer (nullable = true)\n",
      " |-- OOSR_Preprimary_Age_Female: integer (nullable = true)\n",
      " |-- OOSR_Primary_Age_Male: integer (nullable = true)\n",
      " |-- OOSR_Primary_Age_Female: integer (nullable = true)\n",
      " |-- OOSR_Lower_Secondary_Age_Male: integer (nullable = true)\n",
      " |-- OOSR_Lower_Secondary_Age_Female: integer (nullable = true)\n",
      " |-- OOSR_Upper_Secondary_Age_Male: integer (nullable = true)\n",
      " |-- OOSR_Upper_Secondary_Age_Female: integer (nullable = true)\n",
      " |-- Completion_Rate_Primary_Male: integer (nullable = true)\n",
      " |-- Completion_Rate_Primary_Female: integer (nullable = true)\n",
      " |-- Completion_Rate_Lower_Secondary_Male: integer (nullable = true)\n",
      " |-- Completion_Rate_Lower_Secondary_Female: integer (nullable = true)\n",
      " |-- Completion_Rate_Upper_Secondary_Male: integer (nullable = true)\n",
      " |-- Completion_Rate_Upper_Secondary_Female: integer (nullable = true)\n",
      " |-- Youth_15_24_Literacy_Rate_Male: integer (nullable = true)\n",
      " |-- Youth_15_24_Literacy_Rate_Female: integer (nullable = true)\n",
      " |-- Birth_Rate: double (nullable = true)\n",
      " |-- Unemployment_Rate: double (nullable = true)\n",
      " |-- High_OOSR_Preprimary: integer (nullable = false)\n",
      " |-- High_OOSR_Primary: integer (nullable = false)\n",
      " |-- High_OOSR_Lower_Secondary: integer (nullable = false)\n",
      " |-- High_OOSR_Upper_Secondary: integer (nullable = false)\n",
      " |-- Region: string (nullable = true)\n",
      "\n"
     ]
    }
   ],
   "source": [
    "row_count = df.count()\n",
    "column_count = len(df.columns)\n",
    "print(f\"{row_count} rows, {column_count} columns\")\n",
    "df.printSchema()"
   ]
  },
  {
   "cell_type": "code",
   "execution_count": 12,
   "id": "6c63eee9",
   "metadata": {},
   "outputs": [
    {
     "name": "stdout",
     "output_type": "stream",
     "text": [
      "1608 rows, 6 columns\n",
      "root\n",
      " |-- Countries and areas: string (nullable = true)\n",
      " |-- OOSR: integer (nullable = true)\n",
      " |-- Age_group: string (nullable = true)\n",
      " |-- Gender: string (nullable = true)\n",
      " |-- High_OOSR: integer (nullable = true)\n",
      " |-- Region: string (nullable = true)\n",
      "\n"
     ]
    }
   ],
   "source": [
    "row_count = OOSR.count()\n",
    "column_count = len(OOSR.columns)\n",
    "print(f\"{row_count} rows, {column_count} columns\")\n",
    "\n",
    "OOSR.printSchema()"
   ]
  },
  {
   "cell_type": "code",
   "execution_count": 13,
   "id": "c704faa4",
   "metadata": {},
   "outputs": [],
   "source": [
    "df = df.withColumn(\"High_OOSR_Preprimary\", col(\"High_OOSR_Preprimary\").cast(BooleanType())) \\\n",
    "       .withColumn(\"High_OOSR_Primary\", col(\"High_OOSR_Primary\").cast(BooleanType())) \\\n",
    "       .withColumn(\"High_OOSR_Lower_Secondary\", col(\"High_OOSR_Lower_Secondary\").cast(BooleanType())) \\\n",
    "       .withColumn(\"High_OOSR_Upper_Secondary\", col(\"High_OOSR_Upper_Secondary\").cast(BooleanType()))"
   ]
  },
  {
   "cell_type": "code",
   "execution_count": 14,
   "id": "734e5699",
   "metadata": {},
   "outputs": [
    {
     "name": "stdout",
     "output_type": "stream",
     "text": [
      "root\n",
      " |-- Countries and areas: string (nullable = true)\n",
      " |-- Latitude : double (nullable = true)\n",
      " |-- Longitude: double (nullable = true)\n",
      " |-- OOSR_Preprimary_Age_Male: integer (nullable = true)\n",
      " |-- OOSR_Preprimary_Age_Female: integer (nullable = true)\n",
      " |-- OOSR_Primary_Age_Male: integer (nullable = true)\n",
      " |-- OOSR_Primary_Age_Female: integer (nullable = true)\n",
      " |-- OOSR_Lower_Secondary_Age_Male: integer (nullable = true)\n",
      " |-- OOSR_Lower_Secondary_Age_Female: integer (nullable = true)\n",
      " |-- OOSR_Upper_Secondary_Age_Male: integer (nullable = true)\n",
      " |-- OOSR_Upper_Secondary_Age_Female: integer (nullable = true)\n",
      " |-- Completion_Rate_Primary_Male: integer (nullable = true)\n",
      " |-- Completion_Rate_Primary_Female: integer (nullable = true)\n",
      " |-- Completion_Rate_Lower_Secondary_Male: integer (nullable = true)\n",
      " |-- Completion_Rate_Lower_Secondary_Female: integer (nullable = true)\n",
      " |-- Completion_Rate_Upper_Secondary_Male: integer (nullable = true)\n",
      " |-- Completion_Rate_Upper_Secondary_Female: integer (nullable = true)\n",
      " |-- Youth_15_24_Literacy_Rate_Male: integer (nullable = true)\n",
      " |-- Youth_15_24_Literacy_Rate_Female: integer (nullable = true)\n",
      " |-- Birth_Rate: double (nullable = true)\n",
      " |-- Unemployment_Rate: double (nullable = true)\n",
      " |-- High_OOSR_Preprimary: boolean (nullable = false)\n",
      " |-- High_OOSR_Primary: boolean (nullable = false)\n",
      " |-- High_OOSR_Lower_Secondary: boolean (nullable = false)\n",
      " |-- High_OOSR_Upper_Secondary: boolean (nullable = false)\n",
      " |-- Region: string (nullable = true)\n",
      "\n"
     ]
    }
   ],
   "source": [
    "df.printSchema()"
   ]
  },
  {
   "cell_type": "code",
   "execution_count": 15,
   "id": "8d1dcc64",
   "metadata": {},
   "outputs": [],
   "source": [
    "columns_to_drop = ['Completion_Rate_Primary_Male', 'Completion_Rate_Primary_Female', \n",
    "                   'Completion_Rate_Lower_Secondary_Male', 'Completion_Rate_Lower_Secondary_Female',\n",
    "                   'Completion_Rate_Upper_Secondary_Male', 'Completion_Rate_Upper_Secondary_Female',\n",
    "                   'Youth_15_24_Literacy_Rate_Male', 'Youth_15_24_Literacy_Rate_Female',\n",
    "                   'Birth_Rate', 'Unemployment_Rate']\n",
    "df = df.drop(*columns_to_drop)\n"
   ]
  },
  {
   "cell_type": "code",
   "execution_count": 16,
   "id": "0e52b36e",
   "metadata": {},
   "outputs": [
    {
     "name": "stdout",
     "output_type": "stream",
     "text": [
      "201 rows, 16 columns\n",
      "root\n",
      " |-- Countries and areas: string (nullable = true)\n",
      " |-- Latitude : double (nullable = true)\n",
      " |-- Longitude: double (nullable = true)\n",
      " |-- OOSR_Preprimary_Age_Male: integer (nullable = true)\n",
      " |-- OOSR_Preprimary_Age_Female: integer (nullable = true)\n",
      " |-- OOSR_Primary_Age_Male: integer (nullable = true)\n",
      " |-- OOSR_Primary_Age_Female: integer (nullable = true)\n",
      " |-- OOSR_Lower_Secondary_Age_Male: integer (nullable = true)\n",
      " |-- OOSR_Lower_Secondary_Age_Female: integer (nullable = true)\n",
      " |-- OOSR_Upper_Secondary_Age_Male: integer (nullable = true)\n",
      " |-- OOSR_Upper_Secondary_Age_Female: integer (nullable = true)\n",
      " |-- High_OOSR_Preprimary: boolean (nullable = false)\n",
      " |-- High_OOSR_Primary: boolean (nullable = false)\n",
      " |-- High_OOSR_Lower_Secondary: boolean (nullable = false)\n",
      " |-- High_OOSR_Upper_Secondary: boolean (nullable = false)\n",
      " |-- Region: string (nullable = true)\n",
      "\n"
     ]
    }
   ],
   "source": [
    "row_count = df.count()\n",
    "column_count = len(df.columns)\n",
    "print(f\"{row_count} rows, {column_count} columns\")\n",
    "df.printSchema()"
   ]
  },
  {
   "cell_type": "code",
   "execution_count": 17,
   "id": "2135cafa",
   "metadata": {},
   "outputs": [],
   "source": [
    "columns_for_log = ['OOSR_Preprimary_Age_Male', 'OOSR_Preprimary_Age_Female', 'OOSR_Primary_Age_Male', \n",
    "                   'OOSR_Primary_Age_Female', 'OOSR_Lower_Secondary_Age_Male', 'OOSR_Lower_Secondary_Age_Female',\n",
    "                   'OOSR_Upper_Secondary_Age_Male', 'OOSR_Upper_Secondary_Age_Female']\n",
    "\n",
    "df_log = df.select([log(col_name).alias(col_name) for col_name in columns_for_log])"
   ]
  },
  {
   "cell_type": "code",
   "execution_count": 18,
   "id": "06b0a5e0",
   "metadata": {},
   "outputs": [
    {
     "name": "stdout",
     "output_type": "stream",
     "text": [
      "Displaying columns: ['OOSR_Preprimary_Age_Male', 'OOSR_Preprimary_Age_Female', 'OOSR_Primary_Age_Male']\n",
      "+------------------------+--------------------------+---------------------+\n",
      "|OOSR_Preprimary_Age_Male|OOSR_Preprimary_Age_Female|OOSR_Primary_Age_Male|\n",
      "+------------------------+--------------------------+---------------------+\n",
      "|null                    |null                      |null                 |\n",
      "|1.3862943611198906      |0.6931471805599453        |1.791759469228055    |\n",
      "|null                    |null                      |null                 |\n",
      "|null                    |null                      |null                 |\n",
      "|3.4339872044851463      |3.6635616461296463        |null                 |\n",
      "|2.6390573296152584      |null                      |null                 |\n",
      "|2.6390573296152584      |1.3862943611198906        |1.3862943611198906   |\n",
      "|0.6931471805599453      |0.6931471805599453        |null                 |\n",
      "|3.9512437185814275      |3.912023005428146         |2.1972245773362196   |\n",
      "|2.5649493574615367      |2.6390573296152584        |null                 |\n",
      "|null                    |null                      |null                 |\n",
      "|3.4657359027997265      |2.9444389791664403        |2.302585092994046    |\n",
      "|null                    |null                      |null                 |\n",
      "|3.4339872044851463      |3.332204510175204         |0.6931471805599453   |\n",
      "|null                    |null                      |null                 |\n",
      "+------------------------+--------------------------+---------------------+\n",
      "only showing top 15 rows\n",
      "\n",
      "Displaying columns: ['OOSR_Primary_Age_Female', 'OOSR_Lower_Secondary_Age_Male', 'OOSR_Lower_Secondary_Age_Female']\n",
      "+-----------------------+-----------------------------+-------------------------------+\n",
      "|OOSR_Primary_Age_Female|OOSR_Lower_Secondary_Age_Male|OOSR_Lower_Secondary_Age_Female|\n",
      "+-----------------------+-----------------------------+-------------------------------+\n",
      "|null                   |null                         |null                           |\n",
      "|1.0986122886681096     |1.791759469228055            |0.0                            |\n",
      "|null                   |null                         |null                           |\n",
      "|null                   |null                         |null                           |\n",
      "|null                   |null                         |null                           |\n",
      "|null                   |null                         |null                           |\n",
      "|0.0                    |0.0                          |0.6931471805599453             |\n",
      "|null                   |null                         |null                           |\n",
      "|2.1972245773362196     |2.3978952727983707           |2.1972245773362196             |\n",
      "|null                   |0.6931471805599453           |1.0986122886681096             |\n",
      "|null                   |0.0                          |null                           |\n",
      "|1.9459101490553132     |null                         |null                           |\n",
      "|null                   |3.1354942159291497           |3.044522437723423              |\n",
      "|1.0986122886681096     |1.9459101490553132           |null                           |\n",
      "|null                   |null                         |null                           |\n",
      "+-----------------------+-----------------------------+-------------------------------+\n",
      "only showing top 15 rows\n",
      "\n",
      "Displaying columns: ['OOSR_Upper_Secondary_Age_Male', 'OOSR_Upper_Secondary_Age_Female']\n",
      "+-----------------------------+-------------------------------+\n",
      "|OOSR_Upper_Secondary_Age_Male|OOSR_Upper_Secondary_Age_Female|\n",
      "+-----------------------------+-------------------------------+\n",
      "|3.784189633918261            |4.23410650459726               |\n",
      "|3.044522437723423            |2.70805020110221               |\n",
      "|null                         |null                           |\n",
      "|null                         |null                           |\n",
      "|null                         |null                           |\n",
      "|null                         |null                           |\n",
      "|2.6390573296152584           |2.4849066497880004             |\n",
      "|2.70805020110221             |1.9459101490553132             |\n",
      "|2.772588722239781            |1.3862943611198906             |\n",
      "|2.302585092994046            |1.791759469228055              |\n",
      "|2.302585092994046            |2.1972245773362196             |\n",
      "|null                         |null                           |\n",
      "|3.367295829986474            |3.1780538303479458             |\n",
      "|2.8903717578961645           |1.791759469228055              |\n",
      "|3.713572066704308            |3.58351893845611               |\n",
      "+-----------------------------+-------------------------------+\n",
      "only showing top 15 rows\n",
      "\n"
     ]
    }
   ],
   "source": [
    "# The first 15 lines of output data\n",
    "columns = df_log.columns\n",
    "num_columns_per_output = 3\n",
    "num_iterations = (len(columns) + num_columns_per_output - 1) // num_columns_per_output\n",
    "\n",
    "for i in range(num_iterations):\n",
    "    start_idx = i * num_columns_per_output\n",
    "    end_idx = min((i + 1) * num_columns_per_output, len(columns))\n",
    "    selected_columns = columns[start_idx:end_idx]\n",
    "    \n",
    "    print(f\"Displaying columns: {selected_columns}\")\n",
    "    df_log.select(selected_columns).show(15, truncate=False)"
   ]
  },
  {
   "cell_type": "code",
   "execution_count": 19,
   "id": "b1e98d63",
   "metadata": {},
   "outputs": [],
   "source": [
    "import os\n",
    "\n",
    "df_output_path = \"df\"\n",
    "OOSR_output_path = \"OOSR\"\n",
    "\n",
    "df.coalesce(1).write.csv(df_output_path, header=True, mode=\"overwrite\")\n",
    "OOSR.coalesce(1).write.csv(OOSR_output_path, header=True, mode=\"overwrite\")\n",
    "\n",
    "def get_single_csv_path(output_path):\n",
    "    part_files = [f for f in os.listdir(output_path) if f.startswith(\"part-\") and f.endswith(\".csv\")]\n",
    "    if part_files:\n",
    "        return os.path.join(output_path, part_files[0])\n",
    "    else:\n",
    "        raise FileNotFoundError(\"No part-*.csv file found in the directory\")\n",
    "\n",
    "df_single_csv = get_single_csv_path(df_output_path)\n",
    "OOSR_single_csv = get_single_csv_path(OOSR_output_path)\n",
    "\n",
    "os.rename(df_single_csv, os.path.join(df_output_path, \"df.csv\"))\n",
    "os.rename(OOSR_single_csv, os.path.join(OOSR_output_path, \"OOSR.csv\"))\n",
    "\n",
    "for filename in os.listdir(df_output_path):\n",
    "    if filename != \"df.csv\":\n",
    "        os.remove(os.path.join(df_output_path, filename))\n",
    "\n",
    "for filename in os.listdir(OOSR_output_path):\n",
    "    if filename != \"OOSR.csv\":\n",
    "        os.remove(os.path.join(OOSR_output_path, filename))\n"
   ]
  },
  {
   "cell_type": "code",
   "execution_count": null,
   "id": "c99881c9",
   "metadata": {},
   "outputs": [],
   "source": []
  }
 ],
 "metadata": {
  "kernelspec": {
   "display_name": "Python 3 (ipykernel)",
   "language": "python",
   "name": "python3"
  },
  "language_info": {
   "codemirror_mode": {
    "name": "ipython",
    "version": 3
   },
   "file_extension": ".py",
   "mimetype": "text/x-python",
   "name": "python",
   "nbconvert_exporter": "python",
   "pygments_lexer": "ipython3",
   "version": "3.10.12"
  }
 },
 "nbformat": 4,
 "nbformat_minor": 5
}
